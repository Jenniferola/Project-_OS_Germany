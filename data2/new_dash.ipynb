{
 "cells": [
  {
   "cell_type": "code",
   "execution_count": 4,
   "metadata": {},
   "outputs": [
    {
     "ename": "SyntaxError",
     "evalue": "incomplete input (3478617630.py, line 35)",
     "output_type": "error",
     "traceback": [
      "\u001b[1;36m  Cell \u001b[1;32mIn[4], line 35\u001b[1;36m\u001b[0m\n\u001b[1;33m    ], style={'width': '50%', 'display': 'inline-block'})\u001b[0m\n\u001b[1;37m                                                         ^\u001b[0m\n\u001b[1;31mSyntaxError\u001b[0m\u001b[1;31m:\u001b[0m incomplete input\n"
     ]
    }
   ],
   "source": [
    "import pandas as pd\n",
    "import matplotlib.pyplot as plt\n",
    "import seaborn as sns\n",
    "import dash\n",
    "from dash import html, dcc, Input, Output\n",
    "import plotly.express as px\n",
    "\n",
    "\n",
    "# Load the data\n",
    "file_path = 'athlete_events.csv'  # Replace with your file path\n",
    "data = pd.read_csv(file_path)\n",
    "\n",
    "# Initialize the Dash app\n",
    "app = dash.Dash(__name__)\n",
    "\n",
    "# App layout\n",
    "app.layout = html.Div([\n",
    "    # Dropdown for country selection\n",
    "    dcc.Dropdown(\n",
    "        id='country-dropdown',\n",
    "        options=[{'label': i, 'value': i} for i in data['NOC'].unique()],\n",
    "        value='SWE'  # Default value set to Sweden\n",
    "    ),\n",
    "\n",
    "    # Row for graphs\n",
    "    html.Div([\n",
    "        # Column for the first graph\n",
    "        html.Div([\n",
    "            dcc.Graph(id='top-sports-graph')\n",
    "        ], style={'width': '50%', 'display': 'inline-block'}),\n",
    "\n",
    "        # Column for the second graph\n",
    "        html.Div([\n",
    "            dcc.Graph(id='gender-dist-graph')\n",
    "        ], style={'width': '50%', 'display': 'inline-block'})"
   ]
  }
 ],
 "metadata": {
  "kernelspec": {
   "display_name": "Databehandling-Jennifer-Olausson-WuxumOR_",
   "language": "python",
   "name": "python3"
  },
  "language_info": {
   "codemirror_mode": {
    "name": "ipython",
    "version": 3
   },
   "file_extension": ".py",
   "mimetype": "text/x-python",
   "name": "python",
   "nbconvert_exporter": "python",
   "pygments_lexer": "ipython3",
   "version": "3.11.5"
  }
 },
 "nbformat": 4,
 "nbformat_minor": 2
}
