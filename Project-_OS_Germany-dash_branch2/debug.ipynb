{
 "cells": [
  {
   "cell_type": "code",
   "execution_count": null,
   "metadata": {},
   "outputs": [],
   "source": [
    "import pandas as pd\n",
    "\n",
    "# Load the data\n",
    "os_data = pd.read_csv('data/athlete_events.csv')\n",
    "\n",
    "# Filter for German athletes\n",
    "os_data_germany = os_data.query(\"NOC == 'GER' or NOC == 'FRG' or NOC == 'SAA' or NOC == 'GDR'\")\n",
    "\n",
    "# Keep only the rows where medals were awarded and remove duplicates\n",
    "os_data_germany_medals = os_data_germany[os_data_germany['Medal'].notna()]\n",
    "os_data_germany_unique_medals = os_data_germany_medals.drop_duplicates(subset=['Year', 'Event', 'Medal'])\n",
    "\n",
    "# Count medals in top 10 sports\n",
    "sport_data_medals = os_data_germany_unique_medals[\"Sport\"].value_counts().head(10)\n",
    "df_data_medals = pd.DataFrame(sport_data_medals)\n",
    "\n",
    "# Display the DataFrame\n",
    "df_data_medals"
   ]
  }
 ],
 "metadata": {
  "language_info": {
   "name": "python"
  }
 },
 "nbformat": 4,
 "nbformat_minor": 2
}
