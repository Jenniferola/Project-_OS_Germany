{
 "cells": [
  {
   "cell_type": "markdown",
   "metadata": {},
   "source": [
    "### Val av sporter (2-4 st) + motivering\n",
    "\n",
    "- 1. **Athletics** (222 medaljer) (För att det var den sporten som Tyskland fick flest medaljer i)\n",
    "- 2. **Canoeing** (159 medaljer) topp 6 av listan som vi fått medaljer i och vi var nyfikna på.\n",
    "- 3. **Tug-Of-War**\t(6 medaljer) dragkamp. Nedre halvan på listan av sporter som Tyskland fått medalj på, som vi var nyfikna på.\n",
    "- 4. **Rhythmic Gymnastics** (1 medalj) rytmisk gymnastik. En av de 3 sporter som tyskland fått minst medaljer i (av 3).\n",
    "\n"
   ]
  },
  {
   "cell_type": "code",
   "execution_count": null,
   "metadata": {},
   "outputs": [],
   "source": [
    "import pandas as pd\n",
    "import plotly.express as px\n",
    "\n",
    "#Importera data\n",
    "os_data = pd.read_csv(\"data/athlete_events.csv\") "
   ]
  }
 ],
 "metadata": {
  "kernelspec": {
   "display_name": "Python 3",
   "language": "python",
   "name": "python3"
  },
  "language_info": {
   "name": "python",
   "version": "3.12.0"
  }
 },
 "nbformat": 4,
 "nbformat_minor": 2
}
