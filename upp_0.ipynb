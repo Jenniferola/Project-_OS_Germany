{
 "cells": [
  {
   "cell_type": "code",
   "execution_count": 1,
   "metadata": {},
   "outputs": [
    {
     "data": {
      "text/plain": [
       "(array(['CHN', 'DEN', 'NED', 'USA', 'FIN', 'NOR', 'ROU', 'EST', 'FRA',\n",
       "        'MAR', 'ESP', 'EGY', 'IRI', 'BUL', 'ITA', 'CHA', 'AZE', 'SUD',\n",
       "        'RUS', 'ARG', 'CUB', 'BLR', 'GRE', 'CMR', 'TUR', 'CHI', 'MEX',\n",
       "        'URS', 'NCA', 'HUN', 'NGR', 'ALG', 'KUW', 'BRN', 'PAK', 'IRQ',\n",
       "        'UAR', 'LIB', 'QAT', 'MAS', 'GER', 'CAN', 'IRL', 'AUS', 'RSA',\n",
       "        'ERI', 'TAN', 'JOR', 'TUN', 'LBA', 'BEL', 'DJI', 'PLE', 'COM',\n",
       "        'KAZ', 'BRU', 'IND', 'KSA', 'SYR', 'MDV', 'ETH', 'UAE', 'YAR',\n",
       "        'INA', 'PHI', 'SGP', 'UZB', 'KGZ', 'TJK', 'EUN', 'JPN', 'CGO',\n",
       "        'SUI', 'BRA', 'FRG', 'GDR', 'MON', 'ISR', 'URU', 'SWE', 'ISV',\n",
       "        'SRI', 'ARM', 'CIV', 'KEN', 'BEN', 'UKR', 'GBR', 'GHA', 'SOM',\n",
       "        'LAT', 'NIG', 'MLI', 'AFG', 'POL', 'CRC', 'PAN', 'GEO', 'SLO',\n",
       "        'CRO', 'GUY', 'NZL', 'POR', 'PAR', 'ANG', 'VEN', 'COL', 'BAN',\n",
       "        'PER', 'ESA', 'PUR', 'UGA', 'HON', 'ECU', 'TKM', 'MRI', 'SEY',\n",
       "        'TCH', 'LUX', 'MTN', 'CZE', 'SKN', 'TTO', 'DOM', 'VIN', 'JAM',\n",
       "        'LBR', 'SUR', 'NEP', 'MGL', 'AUT', 'PLW', 'LTU', 'TOG', 'NAM',\n",
       "        'AHO', 'ISL', 'ASA', 'SAM', 'RWA', 'DMA', 'HAI', 'MLT', 'CYP',\n",
       "        'GUI', 'BIZ', 'YMD', 'KOR', 'THA', 'BER', 'ANZ', 'SCG', 'SLE',\n",
       "        'PNG', 'YEM', 'IOA', 'OMA', 'FIJ', 'VAN', 'MDA', 'YUG', 'BAH',\n",
       "        'GUA', 'SRB', 'IVB', 'MOZ', 'CAF', 'MAD', 'MAL', 'BIH', 'GUM',\n",
       "        'CAY', 'SVK', 'BAR', 'GBS', 'TLS', 'COD', 'GAB', 'SMR', 'LAO',\n",
       "        'BOT', 'ROT', 'CAM', 'PRK', 'SOL', 'SEN', 'CPV', 'CRT', 'GEQ',\n",
       "        'BOL', 'SAA', 'AND', 'ANT', 'ZIM', 'GRN', 'HKG', 'LCA', 'FSM',\n",
       "        'MYA', 'MAW', 'ZAM', 'RHO', 'TPE', 'STP', 'MKD', 'BOH', 'TGA',\n",
       "        'LIE', 'MNE', 'GAM', 'COK', 'ALB', 'WIF', 'SWZ', 'BUR', 'NBO',\n",
       "        'BDI', 'ARU', 'NRU', 'VNM', 'VIE', 'BHU', 'MHL', 'KIR', 'UNK',\n",
       "        'TUV', 'NFL', 'KOS', 'SSD', 'LES'], dtype=object),\n",
       " array(['Basketball', 'Judo', 'Football', 'Tug-Of-War', 'Speed Skating',\n",
       "        'Cross Country Skiing', 'Athletics', 'Ice Hockey', 'Swimming',\n",
       "        'Badminton', 'Sailing', 'Biathlon', 'Gymnastics',\n",
       "        'Art Competitions', 'Alpine Skiing', 'Handball', 'Weightlifting',\n",
       "        'Wrestling', 'Luge', 'Water Polo', 'Hockey', 'Rowing', 'Bobsleigh',\n",
       "        'Fencing', 'Equestrianism', 'Shooting', 'Boxing', 'Taekwondo',\n",
       "        'Cycling', 'Diving', 'Canoeing', 'Tennis', 'Modern Pentathlon',\n",
       "        'Figure Skating', 'Golf', 'Softball', 'Archery', 'Volleyball',\n",
       "        'Synchronized Swimming', 'Table Tennis', 'Nordic Combined',\n",
       "        'Baseball', 'Rhythmic Gymnastics', 'Freestyle Skiing',\n",
       "        'Rugby Sevens', 'Trampolining', 'Beach Volleyball', 'Triathlon',\n",
       "        'Ski Jumping', 'Curling', 'Snowboarding', 'Rugby',\n",
       "        'Short Track Speed Skating', 'Skeleton', 'Lacrosse', 'Polo',\n",
       "        'Cricket', 'Racquets', 'Motorboating', 'Military Ski Patrol',\n",
       "        'Croquet', 'Jeu De Paume', 'Roque', 'Alpinism', 'Basque Pelota',\n",
       "        'Aeronautics'], dtype=object),\n",
       " array([nan, 'Gold', 'Bronze', 'Silver'], dtype=object),\n",
       " mean      25.556898\n",
       " median    24.000000\n",
       " min       10.000000\n",
       " max       97.000000\n",
       " std        6.393561\n",
       " Name: Age, dtype: float64)"
      ]
     },
     "execution_count": 1,
     "metadata": {},
     "output_type": "execute_result"
    }
   ],
   "source": [
    "import pandas as pd\n",
    "\n",
    "# Load the dataset\n",
    "file_path = 'data/athlete_events.csv'\n",
    "data = pd.read_csv(file_path)\n",
    "\n",
    "data.head()\n",
    "\n",
    "# a. Number of unique countries (NOCs) - already calculated as 'unique_countries'\n",
    "\n",
    "# b. List of unique countries (NOCs)\n",
    "unique_nocs = data['NOC'].unique()\n",
    "\n",
    "# c. List of unique sports\n",
    "unique_sports = data['Sport'].unique()\n",
    "\n",
    "# d. List of unique medal types\n",
    "unique_medals = data['Medal'].unique()\n",
    "\n",
    "# e. Statistics for age: mean, median, min, max, standard deviation\n",
    "age_stats = data['Age'].agg(['mean', 'median', 'min', 'max', 'std'])\n",
    "\n",
    "unique_nocs, unique_sports, unique_medals, age_stats"
   ]
  }
 ],
 "metadata": {
  "kernelspec": {
   "display_name": "Python 3",
   "language": "python",
   "name": "python3"
  },
  "language_info": {
   "codemirror_mode": {
    "name": "ipython",
    "version": 3
   },
   "file_extension": ".py",
   "mimetype": "text/x-python",
   "name": "python",
   "nbconvert_exporter": "python",
   "pygments_lexer": "ipython3",
   "version": "3.11.5"
  }
 },
 "nbformat": 4,
 "nbformat_minor": 2
}
