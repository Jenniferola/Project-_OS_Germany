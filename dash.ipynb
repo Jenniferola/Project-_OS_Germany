{
 "cells": [
  {
   "cell_type": "code",
<<<<<<< HEAD
   "execution_count": null,
   "metadata": {},
   "outputs": [],
   "source": []
=======
   "execution_count": 3,
   "metadata": {},
   "outputs": [
    {
     "ename": "ModuleNotFoundError",
     "evalue": "No module named 'dash_bootstrap_templates'",
     "output_type": "error",
     "traceback": [
      "\u001b[1;31m---------------------------------------------------------------------------\u001b[0m",
      "\u001b[1;31mModuleNotFoundError\u001b[0m                       Traceback (most recent call last)",
      "\u001b[1;32mc:\\Users\\NedyaIbrahim-AI23GBG\\Documents\\Github\\Project-_OS_Germany\\dash.ipynb Cell 1\u001b[0m line \u001b[0;36m2\n\u001b[0;32m      <a href='vscode-notebook-cell:/c%3A/Users/NedyaIbrahim-AI23GBG/Documents/Github/Project-_OS_Germany/dash.ipynb#W0sZmlsZQ%3D%3D?line=0'>1</a>\u001b[0m \u001b[39mfrom\u001b[39;00m \u001b[39mdash\u001b[39;00m \u001b[39mimport\u001b[39;00m Dash, html, dcc, callback, Output, Input, State\n\u001b[1;32m----> <a href='vscode-notebook-cell:/c%3A/Users/NedyaIbrahim-AI23GBG/Documents/Github/Project-_OS_Germany/dash.ipynb#W0sZmlsZQ%3D%3D?line=1'>2</a>\u001b[0m \u001b[39mfrom\u001b[39;00m \u001b[39mdash_bootstrap_templates\u001b[39;00m \u001b[39mimport\u001b[39;00m load_figure_template\n\u001b[0;32m      <a href='vscode-notebook-cell:/c%3A/Users/NedyaIbrahim-AI23GBG/Documents/Github/Project-_OS_Germany/dash.ipynb#W0sZmlsZQ%3D%3D?line=2'>3</a>\u001b[0m \u001b[39mimport\u001b[39;00m \u001b[39mdash_bootstrap_components\u001b[39;00m \u001b[39mas\u001b[39;00m \u001b[39mdbc\u001b[39;00m\n\u001b[0;32m      <a href='vscode-notebook-cell:/c%3A/Users/NedyaIbrahim-AI23GBG/Documents/Github/Project-_OS_Germany/dash.ipynb#W0sZmlsZQ%3D%3D?line=3'>4</a>\u001b[0m \u001b[39mfrom\u001b[39;00m \u001b[39mdash\u001b[39;00m \u001b[39mimport\u001b[39;00m dash_table\n",
      "\u001b[1;31mModuleNotFoundError\u001b[0m: No module named 'dash_bootstrap_templates'"
     ]
    }
   ],
   "source": [
    "from dash import Dash, html, dcc, callback, Output, Input, State\n",
    "from dash_bootstrap_templates import load_figure_template\n",
    "import dash_bootstrap_components as dbc\n",
    "from dash import dash_table\n",
    "import plotly_express as px\n",
    "import pandas as pd\n"
   ]
  },
  {
   "cell_type": "code",
   "execution_count": null,
   "metadata": {},
   "outputs": [],
   "source": [
    "os_data = pd.read_csv(\"data/athlete_events.csv\")"
   ]
  },
  {
   "cell_type": "code",
   "execution_count": null,
   "metadata": {},
   "outputs": [
    {
     "ename": "NameError",
     "evalue": "name 'stocks' is not defined",
     "output_type": "error",
     "traceback": [
      "\u001b[1;31m---------------------------------------------------------------------------\u001b[0m",
      "\u001b[1;31mNameError\u001b[0m                                 Traceback (most recent call last)",
      "\u001b[1;32mc:\\Users\\johan\\schoolwork\\Databehandling-Johan-Nilsen-Stjernquist\\Databehandling-Johan-Nilsen-Stjernquist\\Projekt\\Project-_OS_Germany\\dash.ipynb Cell 3\u001b[0m line \u001b[0;36m2\n\u001b[0;32m      <a href='vscode-notebook-cell:/c%3A/Users/johan/schoolwork/Databehandling-Johan-Nilsen-Stjernquist/Databehandling-Johan-Nilsen-Stjernquist/Projekt/Project-_OS_Germany/dash.ipynb#X11sZmlsZQ%3D%3D?line=0'>1</a>\u001b[0m load_figure_template(\u001b[39m\"\u001b[39m\u001b[39mQuartsy\u001b[39m\u001b[39m\"\u001b[39m)\n\u001b[0;32m      <a href='vscode-notebook-cell:/c%3A/Users/johan/schoolwork/Databehandling-Johan-Nilsen-Stjernquist/Databehandling-Johan-Nilsen-Stjernquist/Projekt/Project-_OS_Germany/dash.ipynb#X11sZmlsZQ%3D%3D?line=2'>3</a>\u001b[0m app \u001b[39m=\u001b[39m Dash(\n\u001b[0;32m      <a href='vscode-notebook-cell:/c%3A/Users/johan/schoolwork/Databehandling-Johan-Nilsen-Stjernquist/Databehandling-Johan-Nilsen-Stjernquist/Projekt/Project-_OS_Germany/dash.ipynb#X11sZmlsZQ%3D%3D?line=3'>4</a>\u001b[0m     \u001b[39m__name__\u001b[39m, \n\u001b[0;32m      <a href='vscode-notebook-cell:/c%3A/Users/johan/schoolwork/Databehandling-Johan-Nilsen-Stjernquist/Databehandling-Johan-Nilsen-Stjernquist/Projekt/Project-_OS_Germany/dash.ipynb#X11sZmlsZQ%3D%3D?line=4'>5</a>\u001b[0m     \u001b[39m#external_stylesheets=[dbc.themes.Quartsy],\u001b[39;00m\n\u001b[1;32m   (...)\u001b[0m\n\u001b[0;32m      <a href='vscode-notebook-cell:/c%3A/Users/johan/schoolwork/Databehandling-Johan-Nilsen-Stjernquist/Databehandling-Johan-Nilsen-Stjernquist/Projekt/Project-_OS_Germany/dash.ipynb#X11sZmlsZQ%3D%3D?line=8'>9</a>\u001b[0m     external_scripts\u001b[39m=\u001b[39m\u001b[39m\"\u001b[39m\u001b[39mdata/script.js\u001b[39m\u001b[39m\"\u001b[39m\n\u001b[0;32m     <a href='vscode-notebook-cell:/c%3A/Users/johan/schoolwork/Databehandling-Johan-Nilsen-Stjernquist/Databehandling-Johan-Nilsen-Stjernquist/Projekt/Project-_OS_Germany/dash.ipynb#X11sZmlsZQ%3D%3D?line=9'>10</a>\u001b[0m )\n\u001b[0;32m     <a href='vscode-notebook-cell:/c%3A/Users/johan/schoolwork/Databehandling-Johan-Nilsen-Stjernquist/Databehandling-Johan-Nilsen-Stjernquist/Projekt/Project-_OS_Germany/dash.ipynb#X11sZmlsZQ%3D%3D?line=11'>12</a>\u001b[0m app\u001b[39m.\u001b[39mlayout \u001b[39m=\u001b[39m dbc\u001b[39m.\u001b[39mContainer([\n\u001b[0;32m     <a href='vscode-notebook-cell:/c%3A/Users/johan/schoolwork/Databehandling-Johan-Nilsen-Stjernquist/Databehandling-Johan-Nilsen-Stjernquist/Projekt/Project-_OS_Germany/dash.ipynb#X11sZmlsZQ%3D%3D?line=12'>13</a>\u001b[0m     dbc\u001b[39m.\u001b[39mRow([\n\u001b[0;32m     <a href='vscode-notebook-cell:/c%3A/Users/johan/schoolwork/Databehandling-Johan-Nilsen-Stjernquist/Databehandling-Johan-Nilsen-Stjernquist/Projekt/Project-_OS_Germany/dash.ipynb#X11sZmlsZQ%3D%3D?line=13'>14</a>\u001b[0m         dbc\u001b[39m.\u001b[39mCol([\n\u001b[0;32m     <a href='vscode-notebook-cell:/c%3A/Users/johan/schoolwork/Databehandling-Johan-Nilsen-Stjernquist/Databehandling-Johan-Nilsen-Stjernquist/Projekt/Project-_OS_Germany/dash.ipynb#X11sZmlsZQ%3D%3D?line=14'>15</a>\u001b[0m             html\u001b[39m.\u001b[39mH1(\u001b[39m\"\u001b[39m\u001b[39mStock Market Dashboard\u001b[39m\u001b[39m\"\u001b[39m, className\u001b[39m=\u001b[39m\u001b[39m'\u001b[39m\u001b[39mtext-center text-primary mx-3\u001b[39m\u001b[39m'\u001b[39m),\n\u001b[0;32m     <a href='vscode-notebook-cell:/c%3A/Users/johan/schoolwork/Databehandling-Johan-Nilsen-Stjernquist/Databehandling-Johan-Nilsen-Stjernquist/Projekt/Project-_OS_Germany/dash.ipynb#X11sZmlsZQ%3D%3D?line=15'>16</a>\u001b[0m             html\u001b[39m.\u001b[39mBr(),\n\u001b[0;32m     <a href='vscode-notebook-cell:/c%3A/Users/johan/schoolwork/Databehandling-Johan-Nilsen-Stjernquist/Databehandling-Johan-Nilsen-Stjernquist/Projekt/Project-_OS_Germany/dash.ipynb#X11sZmlsZQ%3D%3D?line=16'>17</a>\u001b[0m             dcc\u001b[39m.\u001b[39mDatePickerRange(\u001b[39mid\u001b[39m\u001b[39m=\u001b[39m\u001b[39m'\u001b[39m\u001b[39mdate_picker\u001b[39m\u001b[39m'\u001b[39m, className\u001b[39m=\u001b[39m\u001b[39m'\u001b[39m\u001b[39mmx-auto mb-4\u001b[39m\u001b[39m'\u001b[39m)\n\u001b[0;32m     <a href='vscode-notebook-cell:/c%3A/Users/johan/schoolwork/Databehandling-Johan-Nilsen-Stjernquist/Databehandling-Johan-Nilsen-Stjernquist/Projekt/Project-_OS_Germany/dash.ipynb#X11sZmlsZQ%3D%3D?line=17'>18</a>\u001b[0m         ], width\u001b[39m=\u001b[39m\u001b[39m12\u001b[39m, style\u001b[39m=\u001b[39m{\u001b[39m'\u001b[39m\u001b[39mtext-align\u001b[39m\u001b[39m'\u001b[39m: \u001b[39m'\u001b[39m\u001b[39mcenter\u001b[39m\u001b[39m'\u001b[39m})\n\u001b[0;32m     <a href='vscode-notebook-cell:/c%3A/Users/johan/schoolwork/Databehandling-Johan-Nilsen-Stjernquist/Databehandling-Johan-Nilsen-Stjernquist/Projekt/Project-_OS_Germany/dash.ipynb#X11sZmlsZQ%3D%3D?line=18'>19</a>\u001b[0m     ]),\n\u001b[0;32m     <a href='vscode-notebook-cell:/c%3A/Users/johan/schoolwork/Databehandling-Johan-Nilsen-Stjernquist/Databehandling-Johan-Nilsen-Stjernquist/Projekt/Project-_OS_Germany/dash.ipynb#X11sZmlsZQ%3D%3D?line=19'>20</a>\u001b[0m \n\u001b[0;32m     <a href='vscode-notebook-cell:/c%3A/Users/johan/schoolwork/Databehandling-Johan-Nilsen-Stjernquist/Databehandling-Johan-Nilsen-Stjernquist/Projekt/Project-_OS_Germany/dash.ipynb#X11sZmlsZQ%3D%3D?line=20'>21</a>\u001b[0m     dbc\u001b[39m.\u001b[39mRow([\n\u001b[0;32m     <a href='vscode-notebook-cell:/c%3A/Users/johan/schoolwork/Databehandling-Johan-Nilsen-Stjernquist/Databehandling-Johan-Nilsen-Stjernquist/Projekt/Project-_OS_Germany/dash.ipynb#X11sZmlsZQ%3D%3D?line=21'>22</a>\u001b[0m         dbc\u001b[39m.\u001b[39mCol([\n\u001b[0;32m     <a href='vscode-notebook-cell:/c%3A/Users/johan/schoolwork/Databehandling-Johan-Nilsen-Stjernquist/Databehandling-Johan-Nilsen-Stjernquist/Projekt/Project-_OS_Germany/dash.ipynb#X11sZmlsZQ%3D%3D?line=22'>23</a>\u001b[0m             dcc\u001b[39m.\u001b[39mDropdown(\n\u001b[0;32m     <a href='vscode-notebook-cell:/c%3A/Users/johan/schoolwork/Databehandling-Johan-Nilsen-Stjernquist/Databehandling-Johan-Nilsen-Stjernquist/Projekt/Project-_OS_Germany/dash.ipynb#X11sZmlsZQ%3D%3D?line=23'>24</a>\u001b[0m                 \u001b[39mid\u001b[39m\u001b[39m=\u001b[39m\u001b[39m\"\u001b[39m\u001b[39msingle_dropdown\u001b[39m\u001b[39m\"\u001b[39m, multi\u001b[39m=\u001b[39m\u001b[39mFalse\u001b[39;00m, searchable\u001b[39m=\u001b[39m\u001b[39mFalse\u001b[39;00m, className\u001b[39m=\u001b[39m\u001b[39m'\u001b[39m\u001b[39mmb-2\u001b[39m\u001b[39m'\u001b[39m, value\u001b[39m=\u001b[39m\u001b[39m'\u001b[39m\u001b[39mMSFT\u001b[39m\u001b[39m'\u001b[39m,\n\u001b[1;32m---> <a href='vscode-notebook-cell:/c%3A/Users/johan/schoolwork/Databehandling-Johan-Nilsen-Stjernquist/Databehandling-Johan-Nilsen-Stjernquist/Projekt/Project-_OS_Germany/dash.ipynb#X11sZmlsZQ%3D%3D?line=24'>25</a>\u001b[0m                 options\u001b[39m=\u001b[39m[stock \u001b[39mfor\u001b[39;00m stock \u001b[39min\u001b[39;00m stocks[\u001b[39m\"\u001b[39m\u001b[39mSymbols\u001b[39m\u001b[39m\"\u001b[39m]\u001b[39m.\u001b[39munique()],\n\u001b[0;32m     <a href='vscode-notebook-cell:/c%3A/Users/johan/schoolwork/Databehandling-Johan-Nilsen-Stjernquist/Databehandling-Johan-Nilsen-Stjernquist/Projekt/Project-_OS_Germany/dash.ipynb#X11sZmlsZQ%3D%3D?line=25'>26</a>\u001b[0m                 style\u001b[39m=\u001b[39m{\u001b[39m'\u001b[39m\u001b[39mcolor\u001b[39m\u001b[39m'\u001b[39m: \u001b[39m'\u001b[39m\u001b[39m#333\u001b[39m\u001b[39m'\u001b[39m}\n\u001b[0;32m     <a href='vscode-notebook-cell:/c%3A/Users/johan/schoolwork/Databehandling-Johan-Nilsen-Stjernquist/Databehandling-Johan-Nilsen-Stjernquist/Projekt/Project-_OS_Germany/dash.ipynb#X11sZmlsZQ%3D%3D?line=26'>27</a>\u001b[0m             ),\n\u001b[0;32m     <a href='vscode-notebook-cell:/c%3A/Users/johan/schoolwork/Databehandling-Johan-Nilsen-Stjernquist/Databehandling-Johan-Nilsen-Stjernquist/Projekt/Project-_OS_Germany/dash.ipynb#X11sZmlsZQ%3D%3D?line=27'>28</a>\u001b[0m             dcc\u001b[39m.\u001b[39mGraph(\u001b[39mid\u001b[39m\u001b[39m=\u001b[39m\u001b[39m\"\u001b[39m\u001b[39mvolume_graph\u001b[39m\u001b[39m\"\u001b[39m, config\u001b[39m=\u001b[39m{\u001b[39m\"\u001b[39m\u001b[39mstaticPlot\u001b[39m\u001b[39m\"\u001b[39m: \u001b[39mTrue\u001b[39;00m},\n\u001b[0;32m     <a href='vscode-notebook-cell:/c%3A/Users/johan/schoolwork/Databehandling-Johan-Nilsen-Stjernquist/Databehandling-Johan-Nilsen-Stjernquist/Projekt/Project-_OS_Germany/dash.ipynb#X11sZmlsZQ%3D%3D?line=28'>29</a>\u001b[0m                 figure\u001b[39m=\u001b[39m{})\n\u001b[0;32m     <a href='vscode-notebook-cell:/c%3A/Users/johan/schoolwork/Databehandling-Johan-Nilsen-Stjernquist/Databehandling-Johan-Nilsen-Stjernquist/Projekt/Project-_OS_Germany/dash.ipynb#X11sZmlsZQ%3D%3D?line=29'>30</a>\u001b[0m         ], xs\u001b[39m=\u001b[39m\u001b[39m12\u001b[39m, sm\u001b[39m=\u001b[39m\u001b[39m11\u001b[39m, md\u001b[39m=\u001b[39m\u001b[39m10\u001b[39m, lg\u001b[39m=\u001b[39m\u001b[39m5\u001b[39m),\n\u001b[0;32m     <a href='vscode-notebook-cell:/c%3A/Users/johan/schoolwork/Databehandling-Johan-Nilsen-Stjernquist/Databehandling-Johan-Nilsen-Stjernquist/Projekt/Project-_OS_Germany/dash.ipynb#X11sZmlsZQ%3D%3D?line=30'>31</a>\u001b[0m \n\u001b[0;32m     <a href='vscode-notebook-cell:/c%3A/Users/johan/schoolwork/Databehandling-Johan-Nilsen-Stjernquist/Databehandling-Johan-Nilsen-Stjernquist/Projekt/Project-_OS_Germany/dash.ipynb#X11sZmlsZQ%3D%3D?line=31'>32</a>\u001b[0m         dbc\u001b[39m.\u001b[39mCol([\n\u001b[0;32m     <a href='vscode-notebook-cell:/c%3A/Users/johan/schoolwork/Databehandling-Johan-Nilsen-Stjernquist/Databehandling-Johan-Nilsen-Stjernquist/Projekt/Project-_OS_Germany/dash.ipynb#X11sZmlsZQ%3D%3D?line=32'>33</a>\u001b[0m             dcc\u001b[39m.\u001b[39mDropdown(\n\u001b[0;32m     <a href='vscode-notebook-cell:/c%3A/Users/johan/schoolwork/Databehandling-Johan-Nilsen-Stjernquist/Databehandling-Johan-Nilsen-Stjernquist/Projekt/Project-_OS_Germany/dash.ipynb#X11sZmlsZQ%3D%3D?line=33'>34</a>\u001b[0m                 \u001b[39mid\u001b[39m\u001b[39m=\u001b[39m\u001b[39m\"\u001b[39m\u001b[39mmulti_dropdown\u001b[39m\u001b[39m\"\u001b[39m, multi\u001b[39m=\u001b[39m\u001b[39mTrue\u001b[39;00m, searchable\u001b[39m=\u001b[39m\u001b[39mFalse\u001b[39;00m, className\u001b[39m=\u001b[39m\u001b[39m'\u001b[39m\u001b[39mmb-2\u001b[39m\u001b[39m'\u001b[39m, value\u001b[39m=\u001b[39m[\u001b[39m'\u001b[39m\u001b[39mMSFT\u001b[39m\u001b[39m'\u001b[39m, \u001b[39m'\u001b[39m\u001b[39mAAPL\u001b[39m\u001b[39m'\u001b[39m],\n\u001b[0;32m     <a href='vscode-notebook-cell:/c%3A/Users/johan/schoolwork/Databehandling-Johan-Nilsen-Stjernquist/Databehandling-Johan-Nilsen-Stjernquist/Projekt/Project-_OS_Germany/dash.ipynb#X11sZmlsZQ%3D%3D?line=34'>35</a>\u001b[0m                 options\u001b[39m=\u001b[39m[stock \u001b[39mfor\u001b[39;00m stock \u001b[39min\u001b[39;00m stocks[\u001b[39m\"\u001b[39m\u001b[39mSymbols\u001b[39m\u001b[39m\"\u001b[39m]\u001b[39m.\u001b[39munique()],\n\u001b[0;32m     <a href='vscode-notebook-cell:/c%3A/Users/johan/schoolwork/Databehandling-Johan-Nilsen-Stjernquist/Databehandling-Johan-Nilsen-Stjernquist/Projekt/Project-_OS_Germany/dash.ipynb#X11sZmlsZQ%3D%3D?line=35'>36</a>\u001b[0m                 style\u001b[39m=\u001b[39m{\u001b[39m'\u001b[39m\u001b[39mcolor\u001b[39m\u001b[39m'\u001b[39m: \u001b[39m'\u001b[39m\u001b[39m#333\u001b[39m\u001b[39m'\u001b[39m}\n\u001b[0;32m     <a href='vscode-notebook-cell:/c%3A/Users/johan/schoolwork/Databehandling-Johan-Nilsen-Stjernquist/Databehandling-Johan-Nilsen-Stjernquist/Projekt/Project-_OS_Germany/dash.ipynb#X11sZmlsZQ%3D%3D?line=36'>37</a>\u001b[0m             ),\n\u001b[0;32m     <a href='vscode-notebook-cell:/c%3A/Users/johan/schoolwork/Databehandling-Johan-Nilsen-Stjernquist/Databehandling-Johan-Nilsen-Stjernquist/Projekt/Project-_OS_Germany/dash.ipynb#X11sZmlsZQ%3D%3D?line=37'>38</a>\u001b[0m             dcc\u001b[39m.\u001b[39mGraph(\u001b[39mid\u001b[39m\u001b[39m=\u001b[39m\u001b[39m\"\u001b[39m\u001b[39mclosing_graph\u001b[39m\u001b[39m\"\u001b[39m, config\u001b[39m=\u001b[39m{\u001b[39m\"\u001b[39m\u001b[39mstaticPlot\u001b[39m\u001b[39m\"\u001b[39m: \u001b[39mTrue\u001b[39;00m},\n\u001b[0;32m     <a href='vscode-notebook-cell:/c%3A/Users/johan/schoolwork/Databehandling-Johan-Nilsen-Stjernquist/Databehandling-Johan-Nilsen-Stjernquist/Projekt/Project-_OS_Germany/dash.ipynb#X11sZmlsZQ%3D%3D?line=38'>39</a>\u001b[0m                 figure\u001b[39m=\u001b[39m{})\n\u001b[0;32m     <a href='vscode-notebook-cell:/c%3A/Users/johan/schoolwork/Databehandling-Johan-Nilsen-Stjernquist/Databehandling-Johan-Nilsen-Stjernquist/Projekt/Project-_OS_Germany/dash.ipynb#X11sZmlsZQ%3D%3D?line=39'>40</a>\u001b[0m         ], xs\u001b[39m=\u001b[39m\u001b[39m12\u001b[39m, sm\u001b[39m=\u001b[39m\u001b[39m11\u001b[39m, md\u001b[39m=\u001b[39m\u001b[39m10\u001b[39m, lg\u001b[39m=\u001b[39m\u001b[39m5\u001b[39m)\n\u001b[0;32m     <a href='vscode-notebook-cell:/c%3A/Users/johan/schoolwork/Databehandling-Johan-Nilsen-Stjernquist/Databehandling-Johan-Nilsen-Stjernquist/Projekt/Project-_OS_Germany/dash.ipynb#X11sZmlsZQ%3D%3D?line=40'>41</a>\u001b[0m     ], justify\u001b[39m=\u001b[39m\u001b[39m\"\u001b[39m\u001b[39mevenly\u001b[39m\u001b[39m\"\u001b[39m),\n\u001b[0;32m     <a href='vscode-notebook-cell:/c%3A/Users/johan/schoolwork/Databehandling-Johan-Nilsen-Stjernquist/Databehandling-Johan-Nilsen-Stjernquist/Projekt/Project-_OS_Germany/dash.ipynb#X11sZmlsZQ%3D%3D?line=41'>42</a>\u001b[0m \n\u001b[0;32m     <a href='vscode-notebook-cell:/c%3A/Users/johan/schoolwork/Databehandling-Johan-Nilsen-Stjernquist/Databehandling-Johan-Nilsen-Stjernquist/Projekt/Project-_OS_Germany/dash.ipynb#X11sZmlsZQ%3D%3D?line=42'>43</a>\u001b[0m     dbc\u001b[39m.\u001b[39mRow([\n\u001b[0;32m     <a href='vscode-notebook-cell:/c%3A/Users/johan/schoolwork/Databehandling-Johan-Nilsen-Stjernquist/Databehandling-Johan-Nilsen-Stjernquist/Projekt/Project-_OS_Germany/dash.ipynb#X11sZmlsZQ%3D%3D?line=43'>44</a>\u001b[0m         dbc\u001b[39m.\u001b[39mCol([\n\u001b[0;32m     <a href='vscode-notebook-cell:/c%3A/Users/johan/schoolwork/Databehandling-Johan-Nilsen-Stjernquist/Databehandling-Johan-Nilsen-Stjernquist/Projekt/Project-_OS_Germany/dash.ipynb#X11sZmlsZQ%3D%3D?line=44'>45</a>\u001b[0m             html\u001b[39m.\u001b[39mBr(),\n\u001b[0;32m     <a href='vscode-notebook-cell:/c%3A/Users/johan/schoolwork/Databehandling-Johan-Nilsen-Stjernquist/Databehandling-Johan-Nilsen-Stjernquist/Projekt/Project-_OS_Germany/dash.ipynb#X11sZmlsZQ%3D%3D?line=45'>46</a>\u001b[0m             html\u001b[39m.\u001b[39mH2(\u001b[39m'\u001b[39m\u001b[39mMSFT\u001b[39m\u001b[39m'\u001b[39m, \u001b[39mid\u001b[39m\u001b[39m=\u001b[39m\u001b[39m'\u001b[39m\u001b[39mdata_label\u001b[39m\u001b[39m'\u001b[39m),\n\u001b[0;32m     <a href='vscode-notebook-cell:/c%3A/Users/johan/schoolwork/Databehandling-Johan-Nilsen-Stjernquist/Databehandling-Johan-Nilsen-Stjernquist/Projekt/Project-_OS_Germany/dash.ipynb#X11sZmlsZQ%3D%3D?line=46'>47</a>\u001b[0m             dash_table\u001b[39m.\u001b[39mDataTable(\u001b[39mid\u001b[39m\u001b[39m=\u001b[39m\u001b[39m'\u001b[39m\u001b[39mdata_table\u001b[39m\u001b[39m'\u001b[39m, page_size\u001b[39m=\u001b[39m\u001b[39m15\u001b[39m)\n\u001b[0;32m     <a href='vscode-notebook-cell:/c%3A/Users/johan/schoolwork/Databehandling-Johan-Nilsen-Stjernquist/Databehandling-Johan-Nilsen-Stjernquist/Projekt/Project-_OS_Germany/dash.ipynb#X11sZmlsZQ%3D%3D?line=47'>48</a>\u001b[0m         ], width\u001b[39m=\u001b[39m\u001b[39m10\u001b[39m)\n\u001b[0;32m     <a href='vscode-notebook-cell:/c%3A/Users/johan/schoolwork/Databehandling-Johan-Nilsen-Stjernquist/Databehandling-Johan-Nilsen-Stjernquist/Projekt/Project-_OS_Germany/dash.ipynb#X11sZmlsZQ%3D%3D?line=48'>49</a>\u001b[0m     ], justify\u001b[39m=\u001b[39m\u001b[39m'\u001b[39m\u001b[39mcenter\u001b[39m\u001b[39m'\u001b[39m),\n\u001b[0;32m     <a href='vscode-notebook-cell:/c%3A/Users/johan/schoolwork/Databehandling-Johan-Nilsen-Stjernquist/Databehandling-Johan-Nilsen-Stjernquist/Projekt/Project-_OS_Germany/dash.ipynb#X11sZmlsZQ%3D%3D?line=49'>50</a>\u001b[0m \n\u001b[0;32m     <a href='vscode-notebook-cell:/c%3A/Users/johan/schoolwork/Databehandling-Johan-Nilsen-Stjernquist/Databehandling-Johan-Nilsen-Stjernquist/Projekt/Project-_OS_Germany/dash.ipynb#X11sZmlsZQ%3D%3D?line=50'>51</a>\u001b[0m \n\u001b[0;32m     <a href='vscode-notebook-cell:/c%3A/Users/johan/schoolwork/Databehandling-Johan-Nilsen-Stjernquist/Databehandling-Johan-Nilsen-Stjernquist/Projekt/Project-_OS_Germany/dash.ipynb#X11sZmlsZQ%3D%3D?line=51'>52</a>\u001b[0m ], fluid\u001b[39m=\u001b[39m\u001b[39mTrue\u001b[39;00m)\n\u001b[0;32m     <a href='vscode-notebook-cell:/c%3A/Users/johan/schoolwork/Databehandling-Johan-Nilsen-Stjernquist/Databehandling-Johan-Nilsen-Stjernquist/Projekt/Project-_OS_Germany/dash.ipynb#X11sZmlsZQ%3D%3D?line=53'>54</a>\u001b[0m \u001b[39m@callback\u001b[39m(\n\u001b[0;32m     <a href='vscode-notebook-cell:/c%3A/Users/johan/schoolwork/Databehandling-Johan-Nilsen-Stjernquist/Databehandling-Johan-Nilsen-Stjernquist/Projekt/Project-_OS_Germany/dash.ipynb#X11sZmlsZQ%3D%3D?line=54'>55</a>\u001b[0m     Output(\u001b[39m\"\u001b[39m\u001b[39mvolume_graph\u001b[39m\u001b[39m\"\u001b[39m, \u001b[39m\"\u001b[39m\u001b[39mfigure\u001b[39m\u001b[39m\"\u001b[39m),\n\u001b[0;32m     <a href='vscode-notebook-cell:/c%3A/Users/johan/schoolwork/Databehandling-Johan-Nilsen-Stjernquist/Databehandling-Johan-Nilsen-Stjernquist/Projekt/Project-_OS_Germany/dash.ipynb#X11sZmlsZQ%3D%3D?line=55'>56</a>\u001b[0m     Output(\u001b[39m\"\u001b[39m\u001b[39mdata_table\u001b[39m\u001b[39m\"\u001b[39m, \u001b[39m\"\u001b[39m\u001b[39mdata\u001b[39m\u001b[39m\"\u001b[39m),\n\u001b[1;32m   (...)\u001b[0m\n\u001b[0;32m     <a href='vscode-notebook-cell:/c%3A/Users/johan/schoolwork/Databehandling-Johan-Nilsen-Stjernquist/Databehandling-Johan-Nilsen-Stjernquist/Projekt/Project-_OS_Germany/dash.ipynb#X11sZmlsZQ%3D%3D?line=61'>62</a>\u001b[0m )\n\u001b[0;32m     <a href='vscode-notebook-cell:/c%3A/Users/johan/schoolwork/Databehandling-Johan-Nilsen-Stjernquist/Databehandling-Johan-Nilsen-Stjernquist/Projekt/Project-_OS_Germany/dash.ipynb#X11sZmlsZQ%3D%3D?line=62'>63</a>\u001b[0m \u001b[39mdef\u001b[39;00m \u001b[39msingle_dropdown_changed\u001b[39m(start, end, symbol): \u001b[39m#, label):\u001b[39;00m\n\u001b[0;32m     <a href='vscode-notebook-cell:/c%3A/Users/johan/schoolwork/Databehandling-Johan-Nilsen-Stjernquist/Databehandling-Johan-Nilsen-Stjernquist/Projekt/Project-_OS_Germany/dash.ipynb#X11sZmlsZQ%3D%3D?line=63'>64</a>\u001b[0m     df \u001b[39m=\u001b[39m stocks\u001b[39m.\u001b[39mquery(\u001b[39m\"\u001b[39m\u001b[39mSymbols==@symbol\u001b[39m\u001b[39m\"\u001b[39m)\u001b[39m.\u001b[39mloc[start:end]\n",
      "\u001b[1;31mNameError\u001b[0m: name 'stocks' is not defined"
     ]
    }
   ],
   "source": [
    "load_figure_template(\"Quartsy\")\n",
    "\n",
    "app = Dash(\n",
    "    __name__, \n",
    "    #external_stylesheets=[dbc.themes.Quartsy],\n",
    "\n",
    "    #Talar om för webbläsaren att siten är responsive, dvs att komponenter ändras i storlek på olika enheter.\n",
    "    meta_tags=[{\"name\": \"viewport\", \"content\": \"width=device-width, initial-scale=1\"}]\n",
    ")\n",
    "\n",
    "app.layout = dbc.Container([\n",
    "    dbc.Row([\n",
    "        dbc.Col([\n",
    "            html.H1(\"Stock Market Dashboard\", className='text-center text-primary mx-3'),\n",
    "            html.Br(),\n",
    "            dcc.DatePickerRange(id='date_picker', className='mx-auto mb-4')\n",
    "        ], width=12, style={'text-align': 'center'})\n",
    "    ]),\n",
    "\n",
    "    dbc.Row([\n",
    "        dbc.Col([\n",
    "            dcc.Dropdown(\n",
    "                id=\"single_dropdown\", multi=False, searchable=False, className='mb-2', value='MSFT',\n",
    "                options=[stock for stock in stocks[\"Symbols\"].unique()],\n",
    "                style={'color': '#333'}\n",
    "            ),\n",
    "            dcc.Graph(id=\"volume_graph\", config={\"staticPlot\": True},\n",
    "                figure={})\n",
    "        ], xs=12, sm=11, md=10, lg=5),\n",
    "\n",
    "        dbc.Col([\n",
    "            dcc.Dropdown(\n",
    "                id=\"multi_dropdown\", multi=True, searchable=False, className='mb-2', value=['MSFT', 'AAPL'],\n",
    "                options=[stock for stock in stocks[\"Symbols\"].unique()],\n",
    "                style={'color': '#333'}\n",
    "            ),\n",
    "            dcc.Graph(id=\"closing_graph\", config={\"staticPlot\": True},\n",
    "                figure={})\n",
    "        ], xs=12, sm=11, md=10, lg=5)\n",
    "    ], justify=\"evenly\"),\n",
    "\n",
    "    dbc.Row([\n",
    "        dbc.Col([\n",
    "            html.Br(),\n",
    "            html.H2('MSFT', id='data_label'),\n",
    "            dash_table.DataTable(id='data_table', page_size=15)\n",
    "        ], width=10)\n",
    "    ], justify='center'),\n",
    "\n",
    "\n",
    "], fluid=True)\n",
    "\n",
    "@callback(\n",
    "    Output(\"volume_graph\", \"figure\"),\n",
    "    Output(\"data_table\", \"data\"),\n",
    "    Output(\"data_label\", \"children\"),\n",
    "    Input(\"date_picker\", \"start_date\"),\n",
    "    Input(\"date_picker\", \"end_date\"),\n",
    "    Input(\"single_dropdown\", \"value\"),\n",
    "    #State(\"data_label\", \"children\")\n",
    ")\n",
    "def single_dropdown_changed(start, end, symbol): #, label):\n",
    "    df = stocks.query(\"Symbols==@symbol\").loc[start:end]\n",
    "    fig = px.line(df, x=df.index, y=\"Volume\")\n",
    "    data = df.reset_index().drop(columns=[\"Symbols\"]).to_dict('records')\n",
    "    return fig, data, symbol #, f\"{label}, {symbol}\"\n",
    "\n",
    "@callback(\n",
    "    Output(\"closing_graph\", \"figure\"),\n",
    "    Input(\"date_picker\", \"start_date\"),\n",
    "    Input(\"date_picker\", \"end_date\"),\n",
    "    Input(\"multi_dropdown\", \"value\")\n",
    ")\n",
    "def update_closing_graph(start, end, symbols):\n",
    "    if symbols is None: symbols = []\n",
    "    df = stocks[stocks[\"Symbols\"].isin(symbols)].loc[start:end]\n",
    "    return px.line(df, x=df.index, y=\"Close\", color=\"Symbols\")\n",
    "\n",
    "# Debug True öppnar debug-verktyg på siten samt gör att siten uppdateras automatiskt. Sätt False när sidan är klar. \n",
    "app.run(debug=True, jupyter_mode='external')"
   ]
>>>>>>> ad76e6f5a362f389ff76a208972cce79df458dca
  }
 ],
 "metadata": {
  "kernelspec": {
   "display_name": "Databehandling-Jennifer-Olausson-WuxumOR_",
   "language": "python",
   "name": "python3"
  },
  "language_info": {
   "name": "python",
<<<<<<< HEAD
=======
   "nbconvert_exporter": "python",
   "pygments_lexer": "ipython3",
>>>>>>> ad76e6f5a362f389ff76a208972cce79df458dca
   "version": "3.11.5"
  }
 },
 "nbformat": 4,
 "nbformat_minor": 2
}
