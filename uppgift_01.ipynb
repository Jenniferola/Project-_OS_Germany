{
 "cells": [
  {
   "cell_type": "markdown",
   "metadata": {},
   "source": [
    "<h3>Uppgift 1 - Landstatistik</h3>\n",
    "\n",
    "Ni får ett land tilldelat till er grupp. Börja med att anonymisera kolumnen med idrottarnas namn med\n",
    "hashfunktionen SHA-256.\n",
    "\n",
    "Undersök därefter hur det gått för landet i OS genom tiderna. Visualisera exempelvis:\n",
    "de sporter landet fått flest medaljer i\n",
    "antal medaljer per OS\n",
    "histogram över åldrar\n",
    "Skapa fler plots för att visualisera flera aspekter kring ert land och dess sportprestationer i OS."
   ]
  }
 ],
 "metadata": {
  "language_info": {
   "name": "python"
  }
 },
 "nbformat": 4,
 "nbformat_minor": 2
}
