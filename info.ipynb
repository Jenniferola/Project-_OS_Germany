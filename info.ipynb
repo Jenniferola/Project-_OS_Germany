{
 "cells": [
  {
   "cell_type": "markdown",
   "metadata": {},
   "source": [
    "#### Gruppens reflektioner"
   ]
  },
  {
   "cell_type": "markdown",
   "metadata": {},
   "source": [
    "### Tysklands NOC och Historisk Bakgrund\n",
    "\n",
    "#### SAA: Saarland\n",
    "- Saarland är en relativt ung politisk enhet, bildad 1920 genom bestämmelserna i Versaillesfreden. Det är viktigt att notera att Saarland var en separat politisk enhet innan det blev ett förbundsland i Förbundsrepubliken Tyskland 1957.\n",
    "\n",
    "#### GDR: Östtyskland\n",
    "- Mellan 1964 och 1992 var Tyskland delat i två stater: Västtyskland (FRG) och Östtyskland (DDR). Dessa två tyska stater tävlade ofta som separata enheter vid olympiska evenemang.\n",
    "\n",
    "### Motivering till Val av Diagram och Analys\n",
    "\n",
    "Vi har valt att använda oss av data för Tyskland och Västtyskland (FRG) tillsammans från 1960 till 1968 för att ge en helhetsbild av den tyska idrottsprestationen under den tidsperioden.\n",
    "\n",
    "#### Analys av Perioden 1960-1968\n",
    "- Under vissa år vann inte Tyskland några medaljer alls. Det kan bero på politiska faktorer som bojkotter, minskat deltagande eller prestation, eller politiska förändringar, särskilt under perioden 1964-1992 när Tyskland var delat.\n",
    "\n",
    "#### Diagram för Tysklands Deltagande i OS\n",
    "- Vi överväger att skapa ett extra diagram för att tydligt visa de åren då Tyskland inte deltog i OS som en ytterligare visualisering av vår analys.\n",
    "\n",
    "### Val av Sporter för Djupgående Analys\n",
    "\n",
    "Vi har valt att fördjupa oss i följande sporter för att bättre förstå Tysklands prestationer:\n",
    "\n",
    "1. **Athletics (Friidrott)**\n",
    "   - Antal Medaljer: 222\n",
    "   - Motivering: Friidrott är den sport där Tyskland har presterat bäst, och vi vill undersöka fördelningen av medaljer mellan länder och åldersfördelningen inom sporten.\n",
    "\n",
    "2. **Canoeing (Kanotsport)**\n",
    "   - Antal Medaljer: 159\n",
    "   - Motivering: Top 6 av sporter där Tyskland har fått medaljer, och vi är nyfikna på att utforska medaljfördelningen och åldersfördelningen.\n",
    "\n",
    "3. **Tug-Of-War (Dragkamp)**\n",
    "   - Antal Medaljer: 6\n",
    "   - Motivering: En sport där Tyskland har fått medaljer men inte i stor omfattning. Vi vill undersöka medaljfördelningen och åldersfördelningen.\n",
    "\n",
    "4. **Rhythmic Gymnastics (Rytmisk Gymnastik)**\n",
    "   - Antal Medaljer: 1\n",
    "   - Motivering: En av de tre sporter där Tyskland har fått minst medaljer. Vi vill undersöka fördelningen av den enda medaljen och åldersfördelningen inom sporten.\n",
    "\n",
    "### Visualisering av Resultat\n",
    "\n",
    "Vi kommer att använda lämpliga grafer och diagram för varje sport, inklusive medaljfördelning mellan länder och åldersfördelning inom sporterna. Detta kommer att ge en omfattande förståelse av Tysklands prestationer inom varje sport och hjälpa oss att identifiera mönster och trender över tid."
   ]
  }
 ],
 "metadata": {
  "language_info": {
   "name": "python"
  }
 },
 "nbformat": 4,
 "nbformat_minor": 2
}
