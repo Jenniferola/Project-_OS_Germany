{
 "cells": [
  {
   "cell_type": "markdown",
   "metadata": {},
   "source": [
    "#### Uppgift 0 - Uppvärmning\n",
    "\n",
    "Börja med att göra explorativ dataanalys över hela datasettet. Generella frågor att besvara med hjälp av datan:\n",
    "\n",
    "  a. hur många länder som är med i datan?\n",
    "\n",
    "  b. vilka länder är med? (förkortningarna räcker)\n",
    "  \n",
    "  c. vilka sporter är med?\n",
    "  \n",
    "  d. vilka medaljtyper finns det?\n",
    "  \n",
    "  e. ta reda på statistik för åldern: medelvärde, median, min, max, standardavvikelse,\n",
    "  \n",
    "  f. utforska datan vidare med egna frågor\n",
    "\n",
    "Se även till att plotta några intressanta features, exempelvis:\n",
    "  \n",
    "  g. diagram över könsfördelningen\n",
    "  \n",
    "  h. diagram över topp 10 länder som tagit flest medaljer\n",
    "  \n",
    "  i. plotta gärna fler saker som är intressant."
   ]
  },
  {
   "cell_type": "code",
   "execution_count": null,
   "metadata": {},
   "outputs": [],
   "source": [
    "#Own overview\n",
    "\n",
    "dataset.head()\n",
    "\n",
    "#dataset.info()"
   ]
  },
  {
   "cell_type": "markdown",
   "metadata": {},
   "source": [
    "###  A. hur många länder som är med i datan?"
   ]
  },
  {
   "cell_type": "markdown",
   "metadata": {},
   "source": [
    "### B. vilka länder är med? (förkortningarna räcker)"
   ]
  },
  {
   "cell_type": "code",
   "execution_count": null,
   "metadata": {},
   "outputs": [],
   "source": [
    "nocs"
   ]
  },
  {
   "cell_type": "code",
   "execution_count": null,
   "metadata": {},
   "outputs": [],
   "source": [
    "sports = dataset['Sport'].unique()\n",
    "\n",
    "print(f\"number of sports: {len(sports)}\")\n",
    "sports"
   ]
  },
  {
   "cell_type": "markdown",
   "metadata": {},
   "source": [
    "### D. vilka medaljtyper finns det?"
   ]
  },
  {
   "cell_type": "markdown",
   "metadata": {},
   "source": [
    "### e. ta reda på statistik för åldern: medelvärde, median, min, max, standardavvikelse,"
   ]
  },
  {
   "cell_type": "code",
   "execution_count": null,
   "metadata": {},
   "outputs": [],
   "source": [
    "print(f\"Age mean: {dataset[\"Age\"].mean()}\")\n",
    "print(f\"Age median: {dataset[\"Age\"].median()}\")\n",
    "print(f\"Age min: {dataset[\"Age\"].min()}\")\n",
    "print(f\"Age max: {dataset[\"Age\"].max()}\")\n",
    "print(f\"Age std: {dataset[\"Age\"].std()}\")"
   ]
  },
  {
   "cell_type": "code",
   "execution_count": null,
   "metadata": {},
   "outputs": [],
   "source": [
    "#Vilka var de äldsta och yngsta deltagaren i datasetet?\n",
    "\n",
    "min_age = dataset.query(\"Age == 10\")\n",
    "\n",
    "\n",
    "max_age = dataset.query(\"Age == 97\")\n",
    "\n",
    "\n",
    "min_age,max_age"
   ]
  },
  {
   "cell_type": "markdown",
   "metadata": {},
   "source": [
    "### f. utforska datan vidare med egna frågor"
   ]
  },
  {
   "cell_type": "code",
   "execution_count": null,
   "metadata": {},
   "outputs": [],
   "source": [
    "group1 = dataset.groupby(\"Age\")\n",
    "dataset.loc[group1.groups[97]]"
   ]
  },
  {
   "cell_type": "code",
   "execution_count": null,
   "metadata": {},
   "outputs": [],
   "source": [
    "import matplotlib.pyplot as plt\n",
    "gender_counts = dataset[\"Sex\"].value_counts()\n",
    "\n",
    "gender_counts.plot(kind=\"bar\")\n",
    "plt.title(\"Gender distribution\")\n",
    "plt.xlabel(\"Gender\")\n",
    "plt.ylabel(\"Count\")\n",
    "\n",
    "plt.show()\n",
    "\n",
    "sns.barplot(gender_counts).set_title('Gender distribution')\n",
    "\n",
    "plt.savefig(\"saved_diagrams/Gender_distribution.png\")"
   ]
  },
  {
   "cell_type": "markdown",
   "metadata": {},
   "source": [
    "### h. diagram över topp 10 länder som tagit flest medaljer\n"
   ]
  },
  {
   "cell_type": "markdown",
   "metadata": {},
   "source": [
    "### i. plotta gärna fler saker som är intressant."
   ]
  }
 ],
 "metadata": {
  "kernelspec": {
   "display_name": "Python 3",
   "language": "python",
   "name": "python3"
  },
  "language_info": {
   "codemirror_mode": {
    "name": "ipython",
    "version": 3
   },
   "file_extension": ".py",
   "mimetype": "text/x-python",
   "name": "python",
   "nbconvert_exporter": "python",
   "pygments_lexer": "ipython3",
   "version": "3.12.0"
  }
 },
 "nbformat": 4,
 "nbformat_minor": 2
}
